{
 "metadata": {
  "language_info": {
   "codemirror_mode": {
    "name": "ipython",
    "version": 3
   },
   "file_extension": ".py",
   "mimetype": "text/x-python",
   "name": "python",
   "nbconvert_exporter": "python",
   "pygments_lexer": "ipython3",
   "version": "3.8.3-final"
  },
  "orig_nbformat": 2,
  "kernelspec": {
   "name": "python3",
   "display_name": "Python 3"
  }
 },
 "nbformat": 4,
 "nbformat_minor": 2,
 "cells": [
  {
   "cell_type": "code",
   "execution_count": 4,
   "metadata": {},
   "outputs": [
    {
     "output_type": "stream",
     "name": "stdout",
     "text": [
      "--- 59.25580620765686 seconds ---\n"
     ]
    }
   ],
   "source": [
    "import time\n",
    "start_time = time.time()\n",
    "import numpy as np\n",
    "import pandas as pd\n",
    "import pyarrow as pa\n",
    "import pyarrow.parquet as pq\n",
    "table2 = pq.read_table('/Users/pulkitchadha/Downloads/large.parquet')\n",
    "df = table2.to_pandas()\n",
    "df.to_json('/Users/pulkitchadha/Downloads/large.parquet.json', orient='index')\n",
    "print(\"--- %s seconds ---\" % (time.time() - start_time))"
   ]
  },
  {
   "cell_type": "code",
   "execution_count": 5,
   "metadata": {},
   "outputs": [
    {
     "output_type": "execute_result",
     "data": {
      "text/plain": [
       "<pyarrow._parquet.FileMetaData object at 0x7f9b9e717ae0>\n",
       "  created_by: parquet-mr version 1.11.0 (build 18519eb8e059865652eee3ff0e8593f126701da4)\n",
       "  num_columns: 6\n",
       "  num_rows: 5000000\n",
       "  num_row_groups: 1\n",
       "  format_version: 1.0\n",
       "  serialized_size: 2112"
      ]
     },
     "metadata": {},
     "execution_count": 5
    }
   ],
   "source": [
    "pq.read_metadata ('/Users/pulkitchadha/Downloads/large.parquet')"
   ]
  },
  {
   "cell_type": "code",
   "execution_count": null,
   "metadata": {},
   "outputs": [],
   "source": []
  }
 ]
}